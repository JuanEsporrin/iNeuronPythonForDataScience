{
 "cells": [
  {
   "cell_type": "code",
   "execution_count": 1,
   "metadata": {},
   "outputs": [
    {
     "name": "stdout",
     "output_type": "stream",
     "text": [
      "Task 2.1 Write a program which accepts a sequence of comma-separated numbers from console and generate a list\n"
     ]
    }
   ],
   "source": [
    "print(\"Task 2.1 Write a program which accepts a sequence of comma-separated numbers from console and generate a list\")"
   ]
  },
  {
   "cell_type": "code",
   "execution_count": 1,
   "metadata": {},
   "outputs": [
    {
     "name": "stdin",
     "output_type": "stream",
     "text": [
      "Enter a list of numbers separated by comma:  4,5,3,5,6,8,hello sir,8,101,22,44\n"
     ]
    },
    {
     "name": "stdout",
     "output_type": "stream",
     "text": [
      "Number list is : [4, 5, 3, 5, 6, 8, 8, 101, 22, 44]\n"
     ]
    }
   ],
   "source": [
    "inputValues = input(\"Enter a list of numbers separated by comma: \")\n",
    "numberList = [int(i) for i in inputValues.split(',') if i.isdigit()]\n",
    "print(\"Number list is :\", numberList)"
   ]
  },
  {
   "cell_type": "code",
   "execution_count": null,
   "metadata": {},
   "outputs": [],
   "source": []
  }
 ],
 "metadata": {
  "kernelspec": {
   "display_name": "Python 3",
   "language": "python",
   "name": "python3"
  },
  "language_info": {
   "codemirror_mode": {
    "name": "ipython",
    "version": 3
   },
   "file_extension": ".py",
   "mimetype": "text/x-python",
   "name": "python",
   "nbconvert_exporter": "python",
   "pygments_lexer": "ipython3",
   "version": "3.7.6"
  }
 },
 "nbformat": 4,
 "nbformat_minor": 4
}
