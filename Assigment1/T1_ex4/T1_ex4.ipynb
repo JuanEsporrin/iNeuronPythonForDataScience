{
 "cells": [
  {
   "cell_type": "code",
   "execution_count": 2,
   "metadata": {},
   "outputs": [
    {
     "name": "stdout",
     "output_type": "stream",
     "text": [
      "Task 1.4: Write a Python program to find the volume of a sphere with diameter 12 cm\n"
     ]
    }
   ],
   "source": [
    "import math\n",
    "print(\"Task 1.4: Write a Python program to find the volume of a sphere with diameter 12 cm\")"
   ]
  },
  {
   "cell_type": "code",
   "execution_count": 3,
   "metadata": {},
   "outputs": [
    {
     "name": "stdin",
     "output_type": "stream",
     "text": [
      "Please type diameter in cm: 12\n"
     ]
    },
    {
     "name": "stdout",
     "output_type": "stream",
     "text": [
      "Volume for a sphere of 12 cm is 904.7786842338603cm^3\n"
     ]
    }
   ],
   "source": [
    "inputD = int(input(\"Please type diameter in cm:\"))\n",
    "inputR = inputD/2\n",
    "v = 4/3 * math.pi * inputR** 3\n",
    "print(\"Volume for a sphere of \" + str(inputD) + \" cm is \" + str(v) + \"cm^3\")\n"
   ]
  },
  {
   "cell_type": "code",
   "execution_count": null,
   "metadata": {},
   "outputs": [],
   "source": []
  }
 ],
 "metadata": {
  "kernelspec": {
   "display_name": "Python 3",
   "language": "python",
   "name": "python3"
  },
  "language_info": {
   "codemirror_mode": {
    "name": "ipython",
    "version": 3
   },
   "file_extension": ".py",
   "mimetype": "text/x-python",
   "name": "python",
   "nbconvert_exporter": "python",
   "pygments_lexer": "ipython3",
   "version": "3.7.6"
  }
 },
 "nbformat": 4,
 "nbformat_minor": 4
}
