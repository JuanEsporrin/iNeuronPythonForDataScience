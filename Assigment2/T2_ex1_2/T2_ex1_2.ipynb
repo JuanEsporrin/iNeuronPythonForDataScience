{
 "cells": [
  {
   "cell_type": "code",
   "execution_count": 1,
   "metadata": {},
   "outputs": [
    {
     "name": "stdout",
     "output_type": "stream",
     "text": [
      "1.2 : Write a function filter_long_words() that takes a list of words and an integer n and returns the list\n",
      "of words that are longer than n.\n"
     ]
    }
   ],
   "source": [
    "print(\"\"\"1.2 : Write a function filter_long_words() that takes a list of words and an integer n and returns the list\n",
    "of words that are longer than n.\"\"\")"
   ]
  },
  {
   "cell_type": "code",
   "execution_count": 6,
   "metadata": {},
   "outputs": [],
   "source": [
    "def filterWords(listOfWords, n):\n",
    "    newList = []\n",
    "    for word in listOfWords:\n",
    "        if len(word) > n:\n",
    "            newList.append(word)\n",
    "    return newList"
   ]
  },
  {
   "cell_type": "code",
   "execution_count": 8,
   "metadata": {},
   "outputs": [
    {
     "data": {
      "text/plain": [
       "['LongWordIsLoooooooooong', 'MiddleWord', 'tiger']"
      ]
     },
     "execution_count": 8,
     "metadata": {},
     "output_type": "execute_result"
    }
   ],
   "source": [
    "filterWords([\"LongWordIsLoooooooooong\",\"word\",\"MiddleWord\",\"cat\",\"sir\",\"tiger\"],4)"
   ]
  },
  {
   "cell_type": "code",
   "execution_count": null,
   "metadata": {},
   "outputs": [],
   "source": []
  }
 ],
 "metadata": {
  "kernelspec": {
   "display_name": "Python 3",
   "language": "python",
   "name": "python3"
  },
  "language_info": {
   "codemirror_mode": {
    "name": "ipython",
    "version": 3
   },
   "file_extension": ".py",
   "mimetype": "text/x-python",
   "name": "python",
   "nbconvert_exporter": "python",
   "pygments_lexer": "ipython3",
   "version": "3.7.6"
  }
 },
 "nbformat": 4,
 "nbformat_minor": 4
}
