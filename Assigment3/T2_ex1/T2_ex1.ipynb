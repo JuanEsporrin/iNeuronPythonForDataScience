{
 "cells": [
  {
   "cell_type": "code",
   "execution_count": 1,
   "metadata": {},
   "outputs": [
    {
     "name": "stdout",
     "output_type": "stream",
     "text": [
      "Task 2.1 : Write a function so that the columns of the output matrix are powers of the input vector.\n",
      "The order of the powers is determined by the increasing boolean argument. Specifically, when\n",
      "increasing is False, the i-th output column is the input vector raised element-wise to the power\n",
      "of N - i - 1.\n"
     ]
    }
   ],
   "source": [
    "print (\"\"\"Task 2.1 : Write a function so that the columns of the output matrix are powers of the input vector.\n",
    "The order of the powers is determined by the increasing boolean argument. Specifically, when\n",
    "increasing is False, the i-th output column is the input vector raised element-wise to the power\n",
    "of N - i - 1.\"\"\")"
   ]
  },
  {
   "cell_type": "code",
   "execution_count": 28,
   "metadata": {},
   "outputs": [
    {
     "name": "stdout",
     "output_type": "stream",
     "text": [
      "[1, 1, 1, 1]\n",
      "[1, 2, 4, 8]\n",
      "[1, 3, 9, 27]\n",
      "[1, 4, 16, 64]\n",
      "[1, 1, 1, 1]\n",
      "[8, 4, 2, 1]\n",
      "[27, 9, 3, 1]\n",
      "[64, 16, 4, 1]\n"
     ]
    }
   ],
   "source": [
    "def vandermore(vector, increase):\n",
    "    m = []\n",
    "    for v in vector:\n",
    "        row = [v ** i for i in range(len(vector))]\n",
    "        if not increase:\n",
    "            row.reverse()\n",
    "        m.append(row)\n",
    "    return(m)\n",
    "\n",
    "v = [1, 2, 3, 4]\n",
    "\n",
    "print(*vandermore(v, True), sep=\"\\n\")\n",
    "print(*vandermore(v, False), sep=\"\\n\")"
   ]
  },
  {
   "cell_type": "code",
   "execution_count": null,
   "metadata": {},
   "outputs": [],
   "source": []
  },
  {
   "cell_type": "code",
   "execution_count": null,
   "metadata": {},
   "outputs": [],
   "source": []
  },
  {
   "cell_type": "code",
   "execution_count": null,
   "metadata": {},
   "outputs": [],
   "source": []
  }
 ],
 "metadata": {
  "kernelspec": {
   "display_name": "Python 3",
   "language": "python",
   "name": "python3"
  },
  "language_info": {
   "codemirror_mode": {
    "name": "ipython",
    "version": 3
   },
   "file_extension": ".py",
   "mimetype": "text/x-python",
   "name": "python",
   "nbconvert_exporter": "python",
   "pygments_lexer": "ipython3",
   "version": "3.7.6"
  }
 },
 "nbformat": 4,
 "nbformat_minor": 4
}
